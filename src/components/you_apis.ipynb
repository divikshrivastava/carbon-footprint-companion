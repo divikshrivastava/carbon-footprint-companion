{
 "cells": [
  {
   "cell_type": "code",
   "execution_count": 1,
   "metadata": {},
   "outputs": [],
   "source": [
    "import requests\n",
    "from flask import Flask, request, jsonify"
   ]
  },
  {
   "cell_type": "code",
   "execution_count": 13,
   "metadata": {},
   "outputs": [
    {
     "name": "stdout",
     "output_type": "stream",
     "text": [
      " * Serving Flask app '__main__'\n",
      " * Debug mode: off\n"
     ]
    },
    {
     "name": "stderr",
     "output_type": "stream",
     "text": [
      "\u001b[31m\u001b[1mWARNING: This is a development server. Do not use it in a production deployment. Use a production WSGI server instead.\u001b[0m\n",
      " * Running on http://127.0.0.1:5000\n",
      "\u001b[33mPress CTRL+C to quit\u001b[0m\n"
     ]
    },
    {
     "name": "stderr",
     "output_type": "stream",
     "text": [
      "127.0.0.1 - - [23/Jun/2024 10:34:06] \"GET /test HTTP/1.1\" 200 -\n"
     ]
    },
    {
     "name": "stdout",
     "output_type": "stream",
     "text": [
      "HELLO WORLD\n"
     ]
    },
    {
     "name": "stderr",
     "output_type": "stream",
     "text": [
      "127.0.0.1 - - [23/Jun/2024 10:34:12] \"GET /test HTTP/1.1\" 200 -\n"
     ]
    },
    {
     "name": "stdout",
     "output_type": "stream",
     "text": [
      "HELLO WORLD\n"
     ]
    },
    {
     "name": "stderr",
     "output_type": "stream",
     "text": [
      "127.0.0.1 - - [23/Jun/2024 10:35:32] \"GET /test HTTP/1.1\" 200 -\n"
     ]
    },
    {
     "name": "stdout",
     "output_type": "stream",
     "text": [
      "HELLO WORLD\n"
     ]
    }
   ],
   "source": [
    "app = Flask(__name__)\n",
    "\n",
    "@app.route('/travel',methods=['GET'])\n",
    "def travel():\n",
    "    data = request.get_json()\n",
    "    answers = data.get('answers')\n",
    "    url = \"https://chat-api.you.com/smart\"\n",
    "\n",
    "    payload = {\n",
    "        \"query\" : f\"Assume the role of a bot trying to measure the carbon footprint of a person, based on their description of how they travel everyday, rate that person's Carbon Footprint in the range of 0 to 100. The person's description is {answers}. Generate only a two-digit number, no other explanation or reasoning is required.\",\n",
    "        \"chat_id\": \"3c90c3cc-0d44-4b50-8888-8dd25736052a\"\n",
    "    }\n",
    "    headers = {\n",
    "        \"X-API-Key\": \"65c95fb3-7f81-4a01-9419-b6f150340e56<__>1PTsFeETU8N2v5f4qmtDZVGS\",\n",
    "        \"Content-Type\": \"application/json\"\n",
    "    }\n",
    "\n",
    "    response = requests.request(\"POST\", url, json=payload, headers=headers)\n",
    "    return response.json()\n",
    "\n",
    "@app.route('/test',methods=['GET'])\n",
    "def test():\n",
    "    print(\"HELLO WORLD\")\n",
    "    return \"HELLO WORLD\"\n",
    "\n",
    "if __name__ == \"__main__\":\n",
    "    app.run()"
   ]
  },
  {
   "cell_type": "code",
   "execution_count": null,
   "metadata": {},
   "outputs": [],
   "source": [
    "app = Flask(__name__)\n",
    "\n",
    "@app.route('/trash',methods=['GET'])\n",
    "def trash():\n",
    "    data = request.get_json()\n",
    "    answers = data.get('answers')\n",
    "    url = \"https://chat-api.you.com/smart\"\n",
    "\n",
    "    payload = {\n",
    "        \"query\" : f\"Assume the role of a bot trying to measure the carbon footprint of a person, based on their description of how much trash do they produce everyday, rate that person's Carbon Footprint in the range of 0 to 100. The person's description is {answers}. Generate only a two-digit number, no other explanation or reasoning is required.\",\n",
    "        \"chat_id\": \"3c90c3cc-0d44-4b50-8888-8dd25736052a\"\n",
    "    }\n",
    "    headers = {\n",
    "        \"X-API-Key\": \"65c95fb3-7f81-4a01-9419-b6f150340e56<__>1PTsFeETU8N2v5f4qmtDZVGS\",\n",
    "        \"Content-Type\": \"application/json\"\n",
    "    }\n",
    "\n",
    "    response = requests.request(\"POST\", url, json=payload, headers=headers)\n",
    "    return response.json()\n",
    "\n",
    "@app.route('/test',methods=['GET'])\n",
    "def test():\n",
    "    print(\"HELLO WORLD\")\n",
    "    return \"HELLO WORLD\"\n",
    "\n",
    "if __name__ == \"__main__\":\n",
    "    app.run()"
   ]
  },
  {
   "cell_type": "code",
   "execution_count": null,
   "metadata": {},
   "outputs": [],
   "source": [
    "app = Flask(__name__)\n",
    "\n",
    "@app.route('/energy',methods=['GET'])\n",
    "def energy():\n",
    "    data = request.get_json()\n",
    "    answers = data.get('answers')\n",
    "    url = \"https://chat-api.you.com/smart\"\n",
    "\n",
    "    payload = {\n",
    "        \"query\" : f\"Assume the role of a bot trying to measure the carbon footprint of a person, based on their description of how much energy do they consume everyday, rate that person's Carbon Footprint in the range of 0 to 100. The person's description is {answers}. Generate only a two-digit number, no other explanation or reasoning is required.\",\n",
    "        \"chat_id\": \"3c90c3cc-0d44-4b50-8888-8dd25736052a\"\n",
    "    }\n",
    "    headers = {\n",
    "        \"X-API-Key\": \"65c95fb3-7f81-4a01-9419-b6f150340e56<__>1PTsFeETU8N2v5f4qmtDZVGS\",\n",
    "        \"Content-Type\": \"application/json\"\n",
    "    }\n",
    "\n",
    "    response = requests.request(\"POST\", url, json=payload, headers=headers)\n",
    "    return response.json()\n",
    "\n",
    "@app.route('/test',methods=['GET'])\n",
    "def test():\n",
    "    print(\"HELLO WORLD\")\n",
    "    return \"HELLO WORLD\"\n",
    "\n",
    "if __name__ == \"__main__\":\n",
    "    app.run()"
   ]
  },
  {
   "cell_type": "code",
   "execution_count": null,
   "metadata": {},
   "outputs": [],
   "source": [
    "app = Flask(__name__)\n",
    "\n",
    "@app.route('/water',methods=['GET'])\n",
    "def water():\n",
    "    data = request.get_json()\n",
    "    answers = data.get('answers')\n",
    "    url = \"https://chat-api.you.com/smart\"\n",
    "\n",
    "    payload = {\n",
    "        \"query\" : f\"Assume the role of a bot trying to measure the carbon footprint of a person, based on their description of how much water they use everyday, rate that person's Carbon Footprint in the range of 0 to 100. The person's description is {answers}. Generate only a two-digit number, no other explanation or reasoning is required.\",\n",
    "        \"chat_id\": \"3c90c3cc-0d44-4b50-8888-8dd25736052a\"\n",
    "    }\n",
    "    headers = {\n",
    "        \"X-API-Key\": \"65c95fb3-7f81-4a01-9419-b6f150340e56<__>1PTsFeETU8N2v5f4qmtDZVGS\",\n",
    "        \"Content-Type\": \"application/json\"\n",
    "    }\n",
    "\n",
    "    response = requests.request(\"POST\", url, json=payload, headers=headers)\n",
    "    return response.json()\n",
    "\n",
    "@app.route('/test',methods=['GET'])\n",
    "def test():\n",
    "    print(\"HELLO WORLD\")\n",
    "    return \"HELLO WORLD\"\n",
    "\n",
    "if __name__ == \"__main__\":\n",
    "    app.run()"
   ]
  },
  {
   "cell_type": "code",
   "execution_count": 14,
   "metadata": {},
   "outputs": [
    {
     "name": "stdout",
     "output_type": "stream",
     "text": [
      " * Serving Flask app '__main__'\n",
      " * Debug mode: off\n"
     ]
    },
    {
     "name": "stderr",
     "output_type": "stream",
     "text": [
      "\u001b[31m\u001b[1mWARNING: This is a development server. Do not use it in a production deployment. Use a production WSGI server instead.\u001b[0m\n",
      " * Running on http://127.0.0.1:5000\n",
      "\u001b[33mPress CTRL+C to quit\u001b[0m\n"
     ]
    },
    {
     "name": "stderr",
     "output_type": "stream",
     "text": [
      "127.0.0.1 - - [23/Jun/2024 10:35:58] \"GET /plants HTTP/1.1\" 200 -\n"
     ]
    }
   ],
   "source": [
    "app = Flask(__name__)\n",
    "\n",
    "@app.route('/plants',methods=['GET'])\n",
    "def plants():\n",
    "    data = request.get_json()\n",
    "    answers = data.get('answers')\n",
    "    url = \"https://chat-api.you.com/smart\"\n",
    "\n",
    "    payload = {\n",
    "        \"query\" : f\"Assume the role of a bot trying to measure the carbon footprint of a person, based on their description about how many plants do they have at home, rate that person's Carbon Footprint in the range of 0 to 100. The person's description is {answers}. Generate only a two-digit number, no other explanation or reasoning is required.\",\n",
    "        \"chat_id\": \"3c90c3cc-0d44-4b50-8888-8dd25736052a\"\n",
    "    }\n",
    "    headers = {\n",
    "        \"X-API-Key\": \"65c95fb3-7f81-4a01-9419-b6f150340e56<__>1PTsFeETU8N2v5f4qmtDZVGS\",\n",
    "        \"Content-Type\": \"application/json\"\n",
    "    }\n",
    "\n",
    "    response = requests.request(\"POST\", url, json=payload, headers=headers)\n",
    "    return response.json()\n",
    "\n",
    "@app.route('/test',methods=['GET'])\n",
    "def test():\n",
    "    print(\"HELLO WORLD\")\n",
    "    return \"HELLO WORLD\"\n",
    "\n",
    "if __name__ == \"__main__\":\n",
    "    app.run()"
   ]
  }
 ],
 "metadata": {
  "kernelspec": {
   "display_name": "nlp",
   "language": "python",
   "name": "python3"
  },
  "language_info": {
   "codemirror_mode": {
    "name": "ipython",
    "version": 3
   },
   "file_extension": ".py",
   "mimetype": "text/x-python",
   "name": "python",
   "nbconvert_exporter": "python",
   "pygments_lexer": "ipython3",
   "version": "3.10.11"
  }
 },
 "nbformat": 4,
 "nbformat_minor": 2
}
